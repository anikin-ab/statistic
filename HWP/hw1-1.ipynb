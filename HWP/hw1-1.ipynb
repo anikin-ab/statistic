{
 "cells": [
  {
   "cell_type": "markdown",
   "id": "9c557459",
   "metadata": {},
   "source": [
    "#  ДЗ #1 "
   ]
  },
  {
   "cell_type": "markdown",
   "id": "31349966",
   "metadata": {},
   "source": [
    "## задача №1\n",
    "На складе лежат разные фрукты в разном количестве.\n",
    "Нужно написать функцию, которая на вход принимает любое количество названий фруктов и их количество, а возвращает общее количество фруктов на складе"
   ]
  },
  {
   "cell_type": "code",
   "execution_count": 52,
   "id": "65895fbe",
   "metadata": {},
   "outputs": [
    {
     "ename": "KeyboardInterrupt",
     "evalue": "Interrupted by user",
     "output_type": "error",
     "traceback": [
      "\u001b[1;31m---------------------------------------------------------------------------\u001b[0m",
      "\u001b[1;31mKeyboardInterrupt\u001b[0m                         Traceback (most recent call last)",
      "\u001b[1;32m~\\AppData\\Local\\Temp/ipykernel_15324/300070319.py\u001b[0m in \u001b[0;36m<module>\u001b[1;34m\u001b[0m\n\u001b[0;32m     17\u001b[0m     \u001b[0mprint\u001b[0m\u001b[1;33m(\u001b[0m\u001b[1;34m'total fruit number is:'\u001b[0m\u001b[1;33m,\u001b[0m \u001b[0msum2\u001b[0m\u001b[1;33m)\u001b[0m\u001b[1;33m\u001b[0m\u001b[1;33m\u001b[0m\u001b[0m\n\u001b[0;32m     18\u001b[0m \u001b[1;33m\u001b[0m\u001b[0m\n\u001b[1;32m---> 19\u001b[1;33m \u001b[0mN\u001b[0m \u001b[1;33m=\u001b[0m \u001b[0mint\u001b[0m\u001b[1;33m(\u001b[0m\u001b[0minput\u001b[0m\u001b[1;33m(\u001b[0m\u001b[1;34m\"how much diff fruits?:\"\u001b[0m\u001b[1;33m)\u001b[0m\u001b[1;33m)\u001b[0m\u001b[1;33m\u001b[0m\u001b[1;33m\u001b[0m\u001b[0m\n\u001b[0m\u001b[0;32m     20\u001b[0m \u001b[0mhmf\u001b[0m\u001b[1;33m(\u001b[0m\u001b[0mN\u001b[0m\u001b[1;33m)\u001b[0m\u001b[1;33m\u001b[0m\u001b[1;33m\u001b[0m\u001b[0m\n",
      "\u001b[1;32m~\\anaconda3\\lib\\site-packages\\ipykernel\\kernelbase.py\u001b[0m in \u001b[0;36mraw_input\u001b[1;34m(self, prompt)\u001b[0m\n\u001b[0;32m   1004\u001b[0m                 \u001b[1;34m\"raw_input was called, but this frontend does not support input requests.\"\u001b[0m\u001b[1;33m\u001b[0m\u001b[1;33m\u001b[0m\u001b[0m\n\u001b[0;32m   1005\u001b[0m             )\n\u001b[1;32m-> 1006\u001b[1;33m         return self._input_request(\n\u001b[0m\u001b[0;32m   1007\u001b[0m             \u001b[0mstr\u001b[0m\u001b[1;33m(\u001b[0m\u001b[0mprompt\u001b[0m\u001b[1;33m)\u001b[0m\u001b[1;33m,\u001b[0m\u001b[1;33m\u001b[0m\u001b[1;33m\u001b[0m\u001b[0m\n\u001b[0;32m   1008\u001b[0m             \u001b[0mself\u001b[0m\u001b[1;33m.\u001b[0m\u001b[0m_parent_ident\u001b[0m\u001b[1;33m[\u001b[0m\u001b[1;34m\"shell\"\u001b[0m\u001b[1;33m]\u001b[0m\u001b[1;33m,\u001b[0m\u001b[1;33m\u001b[0m\u001b[1;33m\u001b[0m\u001b[0m\n",
      "\u001b[1;32m~\\anaconda3\\lib\\site-packages\\ipykernel\\kernelbase.py\u001b[0m in \u001b[0;36m_input_request\u001b[1;34m(self, prompt, ident, parent, password)\u001b[0m\n\u001b[0;32m   1049\u001b[0m             \u001b[1;32mexcept\u001b[0m \u001b[0mKeyboardInterrupt\u001b[0m\u001b[1;33m:\u001b[0m\u001b[1;33m\u001b[0m\u001b[1;33m\u001b[0m\u001b[0m\n\u001b[0;32m   1050\u001b[0m                 \u001b[1;31m# re-raise KeyboardInterrupt, to truncate traceback\u001b[0m\u001b[1;33m\u001b[0m\u001b[1;33m\u001b[0m\u001b[0m\n\u001b[1;32m-> 1051\u001b[1;33m                 \u001b[1;32mraise\u001b[0m \u001b[0mKeyboardInterrupt\u001b[0m\u001b[1;33m(\u001b[0m\u001b[1;34m\"Interrupted by user\"\u001b[0m\u001b[1;33m)\u001b[0m \u001b[1;32mfrom\u001b[0m \u001b[1;32mNone\u001b[0m\u001b[1;33m\u001b[0m\u001b[1;33m\u001b[0m\u001b[0m\n\u001b[0m\u001b[0;32m   1052\u001b[0m             \u001b[1;32mexcept\u001b[0m \u001b[0mException\u001b[0m\u001b[1;33m:\u001b[0m\u001b[1;33m\u001b[0m\u001b[1;33m\u001b[0m\u001b[0m\n\u001b[0;32m   1053\u001b[0m                 \u001b[0mself\u001b[0m\u001b[1;33m.\u001b[0m\u001b[0mlog\u001b[0m\u001b[1;33m.\u001b[0m\u001b[0mwarning\u001b[0m\u001b[1;33m(\u001b[0m\u001b[1;34m\"Invalid Message:\"\u001b[0m\u001b[1;33m,\u001b[0m \u001b[0mexc_info\u001b[0m\u001b[1;33m=\u001b[0m\u001b[1;32mTrue\u001b[0m\u001b[1;33m)\u001b[0m\u001b[1;33m\u001b[0m\u001b[1;33m\u001b[0m\u001b[0m\n",
      "\u001b[1;31mKeyboardInterrupt\u001b[0m: Interrupted by user"
     ]
    }
   ],
   "source": [
    "def hmf(num):\n",
    "    print(num)\n",
    "    kor = {}\n",
    "    fr_sum = 0\n",
    "    for i in range(num):\n",
    "        name = input('fruit name: ')\n",
    "        number = int(input(f\"input number of {name}: \"))\n",
    "        kor.update({name: number})\n",
    "        fr_sum += number\n",
    "    print(kor)\n",
    "    print(f\"total fruit number is: {fr_sum}\")\n",
    "    \n",
    "    # решение через словарь\n",
    "    sum2 = 0\n",
    "    for k in kor.values():\n",
    "        sum2 += k\n",
    "    print('total fruit number is:', sum2)\n",
    "\n",
    "N = int(input(\"how much diff fruits?:\"))\n",
    "hmf(N)"
   ]
  },
  {
   "cell_type": "markdown",
   "id": "282689c8",
   "metadata": {},
   "source": [
    "## Задача №2\n",
    "Дан список с затратами на рекламу. Но в данных есть ошибки, некоторые затраты имеют отрицательную величину. Удалите такие значения из списка и посчитайте суммарные затраты\n",
    "[100, 125, -90, 345, 655, -1, 0, 200]\n",
    "Используйте list comprehensions"
   ]
  },
  {
   "cell_type": "code",
   "execution_count": 58,
   "id": "e08575f6",
   "metadata": {},
   "outputs": [
    {
     "data": {
      "text/plain": [
       "[100, 125, 345, 655, 0, 200]"
      ]
     },
     "execution_count": 58,
     "metadata": {},
     "output_type": "execute_result"
    }
   ],
   "source": [
    "cost = [100, 125, -90, 345, 655, -1, 0, 200]\n",
    "new_cost = [i for i in cost if i >= 0]\n",
    "new_cost"
   ]
  },
  {
   "cell_type": "markdown",
   "id": "f2914f19",
   "metadata": {},
   "source": [
    "[100, 125, 345, 655, 0, 200]"
   ]
  },
  {
   "cell_type": "markdown",
   "id": "24a4cb3c",
   "metadata": {},
   "source": [
    "## Задача №3\n",
    "Даны два списка.\n",
    "Дата покупки\n",
    "['2021-09-14', '2021-12-15', '2021-09-08', '2021-12-05', '2021-10-09', '2021-09-30', '2021-12-22', '2021-11-29', '2021-12-24', '2021-11-26', '2021-10-27', '2021-12-18', '2021-11-09', '2021-11-23', '2021-09-27', '2021-10-02', '2021-12-27', '2021-09-20', '2021-12-13', '2021-11-01', '2021-11-09', '2021-12-06', '2021-12-08', '2021-10-09', '2021-10-31', '2021-09-30', '2021-11-09', '2021-12-13', '2021-10-26', '2021-12-09']\n",
    "\n",
    "Суммы покупок по датам\n",
    "[1270, 8413, 9028, 3703, 5739, 4095, 295, 4944, 5723, 3701, 4471, 651, 7037, 4274, 6275, 4988, 6930, 2971, 6592, 2004, 2822, 519, 3406, 2732, 5015, 2008, 316, 6333, 5700, 2887]"
   ]
  },
  {
   "cell_type": "markdown",
   "id": "57ba05bd",
   "metadata": {},
   "source": [
    "### Задача №3.1\n",
    "Найдите, какая выручка у компании в ноябре\n",
    "Используйте list comprehensions"
   ]
  },
  {
   "cell_type": "code",
   "execution_count": 65,
   "id": "e188e0ae",
   "metadata": {},
   "outputs": [
    {
     "data": {
      "text/plain": [
       "(30, 30)"
      ]
     },
     "execution_count": 65,
     "metadata": {},
     "output_type": "execute_result"
    }
   ],
   "source": [
    "purch_date = ['2021-09-14', '2021-12-15', '2021-09-08', '2021-12-05', '2021-10-09', '2021-09-30', '2021-12-22', '2021-11-29', \n",
    "              '2021-12-24', '2021-11-26', '2021-10-27', '2021-12-18', '2021-11-09', '2021-11-23', '2021-09-27', '2021-10-02', \n",
    "              '2021-12-27', '2021-09-20', '2021-12-13', '2021-11-01', '2021-11-09', '2021-12-06', '2021-12-08', '2021-10-09', \n",
    "              '2021-10-31', '2021-09-30', '2021-11-09', '2021-12-13', '2021-10-26', '2021-12-09']\n",
    "purch_sum =  [1270, 8413, 9028, 3703, 5739, 4095, 295, 4944, 5723, 3701, 4471, 651, 7037, 4274, 6275, 4988, 6930, 2971, 6592, \n",
    "              2004, 2822, 519, 3406, 2732, 5015, 2008, 316, 6333, 5700, 2887]\n",
    "len(purch_date), len(purch_sum)\n"
   ]
  },
  {
   "cell_type": "code",
   "execution_count": 71,
   "id": "42bd09f2",
   "metadata": {},
   "outputs": [
    {
     "name": "stdout",
     "output_type": "stream",
     "text": [
      "ind, nov_sum + purch=  7 0 + 4944 =\n",
      "4944\n",
      "ind, nov_sum + purch=  9 4944 + 3701 =\n",
      "8645\n",
      "ind, nov_sum + purch=  12 8645 + 7037 =\n",
      "15682\n",
      "ind, nov_sum + purch=  13 15682 + 4274 =\n",
      "19956\n",
      "ind, nov_sum + purch=  19 19956 + 2004 =\n",
      "21960\n",
      "ind, nov_sum + purch=  20 21960 + 2822 =\n",
      "24782\n",
      "ind, nov_sum + purch=  26 24782 + 316 =\n",
      "25098\n",
      "выручка за 11-ый месяц = 25098\n"
     ]
    }
   ],
   "source": [
    "import time\n",
    "\n",
    "fmt = \"%Y-%m-%d\"\n",
    "\n",
    "def nov2(purch_date, purch_sum):\n",
    "    nov_sum = 0\n",
    "    count = 0\n",
    "    month = 11\n",
    "    for d in purch_date:\n",
    "        dt = time.strptime(d, fmt)\n",
    "        if dt[1] == month: \n",
    "            # print('ind, nov_sum + purch= ', purch_date.index(d), nov_sum, \"+\", purch_sum[count], \"=\") # выдает корявые индексы\n",
    "            print('ind, nov_sum + purch= ', count, nov_sum, \"+\", purch_sum[count], \"=\")\n",
    "            nov_sum += purch_sum[count]            \n",
    "            print(nov_sum)\n",
    "        count += 1\n",
    "    print(f'выручка за {month}-ый месяц = {nov_sum}') \n",
    "\n",
    "nov2(purch_date, purch_sum)\n",
    "\n"
   ]
  },
  {
   "cell_type": "markdown",
   "id": "257bba86",
   "metadata": {},
   "source": [
    "ИТОГ\n",
    "\n",
    "ind, nov_sum + purch=  7 0 + 4944 =\n",
    "4944\n",
    "ind, nov_sum + purch=  9 4944 + 3701 =\n",
    "8645\n",
    "ind, nov_sum + purch=  12 8645 + 7037 =\n",
    "15682\n",
    "ind, nov_sum + purch=  13 15682 + 4274 =\n",
    "19956\n",
    "ind, nov_sum + purch=  19 19956 + 2004 =\n",
    "21960\n",
    "ind, nov_sum + purch=  20 21960 + 2822 =\n",
    "24782\n",
    "ind, nov_sum + purch=  26 24782 + 316 =\n",
    "25098\n",
    "выручка за 11-ый месяц = 25098"
   ]
  },
  {
   "cell_type": "markdown",
   "id": "e1b139d6",
   "metadata": {},
   "source": [
    "### Задача №3.2\n",
    "Найдите выручку компании в зависимости от месяца\n",
    "Для этого напишите функцию, которая на вход принимает список с датами и список с выручкой, а на выходе словарь, где ключи - это месяцы, а значения - это выручка.\n",
    "Используйте аннотирование типов."
   ]
  },
  {
   "cell_type": "code",
   "execution_count": 73,
   "id": "a0e4ecd0",
   "metadata": {},
   "outputs": [
    {
     "name": "stdout",
     "output_type": "stream",
     "text": [
      "Выручка по месяцам =  {9: 25647, 12: 45452, 10: 28645, 11: 25098}\n"
     ]
    }
   ],
   "source": [
    "def mon_revenue3(purch_date: list, purch_sum: list ) -> list:\n",
    "    t_m = {}\n",
    "    count = 0\n",
    "    n_num = 0\n",
    "    num = 0\n",
    "    ind = 0\n",
    "    for d in purch_date:\n",
    "        dt = time.strptime(d, fmt)\n",
    "        mon = dt[1]\n",
    "        num = purch_sum[ind]\n",
    "        if t_m.get(mon) == None:\n",
    "            n_num = 0\n",
    "        else:\n",
    "            n_num = t_m.get(mon)\n",
    "        n_num = num + n_num\n",
    "        t_m.update({mon : n_num})\n",
    "        # print(ind, ' t_m =', t_m)\n",
    "        ind += 1\n",
    "\n",
    "    print('Выручка по месяцам = ', t_m)\n",
    "mon_revenue3(purch_date, purch_sum)"
   ]
  },
  {
   "cell_type": "markdown",
   "id": "4008f152",
   "metadata": {},
   "source": [
    "Выручка по месяцам =  {9: 25647, 12: 45452, 10: 28645, 11: 25098}"
   ]
  }
 ],
 "metadata": {
  "kernelspec": {
   "display_name": "Python 3 (ipykernel)",
   "language": "python",
   "name": "python3"
  },
  "language_info": {
   "codemirror_mode": {
    "name": "ipython",
    "version": 3
   },
   "file_extension": ".py",
   "mimetype": "text/x-python",
   "name": "python",
   "nbconvert_exporter": "python",
   "pygments_lexer": "ipython3",
   "version": "3.9.7"
  }
 },
 "nbformat": 4,
 "nbformat_minor": 5
}
